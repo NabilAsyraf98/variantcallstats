{
 "cells": [
  {
   "cell_type": "code",
   "execution_count": null,
   "metadata": {},
   "outputs": [],
   "source": [
    "import sys\n",
    "from collections import defaultdict\n",
    "import os\n",
    "import glob"
   ]
  },
  {
   "cell_type": "code",
   "execution_count": null,
   "metadata": {},
   "outputs": [],
   "source": [
    "def parse_vcf(vcf_file):\n",
    "    \"\"\"\n",
    "    Parses a VCF file for variants, collects them and return a dictionary\n",
    "        variants[chrom] = set of (pos,ref,alt) for all PASS variants \n",
    "    \"\"\"\n",
    "    variants=defaultdict(set)\n",
    "    with open(vcf_file,'r') as f:\n",
    "        for line in f:\n",
    "            if line.startswith(\"#\"):\n",
    "                continue\n",
    "            \n",
    "            #splitting line by tabs\n",
    "            cols=line.strip().split('\\t')\n",
    "\n",
    "            #vcf columns are arranged as follows: CHROM, POS, ID, REF, ALT, QUAL, FILTER, INFO, ...\n",
    "            chrom = cols[0]\n",
    "            pos = cols[1]\n",
    "            id = cols[2]\n",
    "            ref = cols[3]\n",
    "            alt = cols[4]\n",
    "            filt = cols[6]\n",
    "\n",
    "            if filt == \"PASS\":\n",
    "                variants[chrom].add((pos, ref, alt))\n",
    "    \n",
    "    return variants\n"
   ]
  },
  {
   "cell_type": "code",
   "execution_count": null,
   "metadata": {},
   "outputs": [],
   "source": [
    "def compare_vcfs(benchmark_vcf, query_vcf):\n",
    "    \"\"\"\n",
    "    Compare two VCF files (filtered by PASS) in terms of:\n",
    "        1)Number of variants per chromosome\n",
    "        2)For each chromosome:\n",
    "            -calculation of Precision (fraction of query variants that match benchmark variants) OR (true positives/(true positives+false positives))\n",
    "            -calculation of Recall (fraction of benchmark variants that are matched by query variants) OR (true positives/(true positives + false negatives))\n",
    "        3)Prints out summary statistics\n",
    "    \"\"\"\n",
    "    #compile statistics for output\n",
    "    output_lines=[]\n",
    "\n",
    "    #parsing each vcf file to get variants\n",
    "    benchmark_variants= parse_vcf(benchmark_vcf)\n",
    "    query_variants=parse_vcf(query_vcf)\n",
    "\n",
    "    #get chromosomes of benchmark\n",
    "    chroms=list(benchmark_variants.keys())\n",
    "\n",
    "    #summaries (for counting variants across all chromosomes)\n",
    "    total_variants_benchmark=0\n",
    "    total_variants_query=0\n",
    "    total_shared=0\n",
    "\n",
    "    #comapring variants in each chromosome\n",
    "    for chrom in chroms:\n",
    "        variant_set_benchmark=benchmark_variants.get(chrom)\n",
    "        variant_set_query=query_variants.get(chrom)\n",
    "        if variant_set_benchmark is None:\n",
    "            output_lines.append(f\"{benchmark_vcf} has no variants for {chrom}\")\n",
    "            continue\n",
    "        elif variant_set_query is None:\n",
    "            output_lines.append(f\"{query_vcf} has no variants for {chrom}\")\n",
    "            continue\n",
    "\n",
    "\n",
    "    \n",
    "        shared=variant_set_benchmark.intersection(variant_set_query)\n",
    "        \n",
    "        count1=len(variant_set_benchmark)\n",
    "        count2=len(variant_set_query)\n",
    "        shared_count=len(shared)\n",
    "       \n",
    "        #updating summary counts\n",
    "        total_variants_benchmark += count1\n",
    "        total_variants_query +=count2\n",
    "        total_shared += shared_count\n",
    "        output_lines.append(f\"For {chrom}, precision is {shared_count/count2} & recall is {shared_count/count1}\")\n",
    "\n",
    "    #Grand summary\n",
    "    output_lines.append(\"Overall Summary\")\n",
    "    output_lines.append(\"--------------\")\n",
    "    output_lines.append(f\"The total no. of variants in {benchmark_vcf} is {total_variants_benchmark}\")\n",
    "    output_lines.append(f\"The total no. of variants in {query_vcf} is {total_variants_query}\")\n",
    "    output_lines.append(f\"The total no. of correct variant found is {total_shared}\")\n",
    "    output_lines.append(f\"{round(((total_variants_query-total_shared)/total_variants_query)*100,2)}% of variants called in long-reads Nanopore in this case are false\")\n",
    "    output_lines.append(f\"{round((total_shared/total_variants_query)*100,2)}% of variants called in long-reads Nanopore in this case are true\")\n",
    "\n",
    "    return \"\\n\".join(output_lines)"
   ]
  },
  {
   "cell_type": "code",
   "execution_count": null,
   "metadata": {},
   "outputs": [],
   "source": [
    "#processing\n",
    "with open('HG0005_output.txt','w') as file:\n",
    "    file.write(compare_vcfs(benchmark_vcf,query_vcf))"
   ]
  }
 ],
 "metadata": {
  "kernelspec": {
   "display_name": "Python 3",
   "language": "python",
   "name": "python3"
  },
  "language_info": {
   "codemirror_mode": {
    "name": "ipython",
    "version": 3
   },
   "file_extension": ".py",
   "mimetype": "text/x-python",
   "name": "python",
   "nbconvert_exporter": "python",
   "pygments_lexer": "ipython3",
   "version": "3.13.1"
  }
 },
 "nbformat": 4,
 "nbformat_minor": 2
}
